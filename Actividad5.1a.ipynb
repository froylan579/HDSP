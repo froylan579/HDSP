{
 "cells": [
  {
   "cell_type": "code",
   "execution_count": 1,
   "id": "6157b3dd",
   "metadata": {},
   "outputs": [],
   "source": [
    "import numpy as np\n",
    "import pandas as pd \n",
    "import os\n",
    "#for dirname, _, filenames in os.walk(r'C:\\Users\\Calidad\\DATASET1'):\n",
    "    #for filename in filenames:\n",
    "        #print(os.path.join(dirname, filename))\n"
   ]
  },
  {
   "cell_type": "code",
   "execution_count": 2,
   "id": "893e5370",
   "metadata": {},
   "outputs": [],
   "source": [
    "import tensorflow as tf"
   ]
  },
  {
   "cell_type": "code",
   "execution_count": 3,
   "id": "2df2179d",
   "metadata": {},
   "outputs": [],
   "source": [
    "image_dir_path= r'C:\\Users\\Calidad\\DATASET1'\n",
    "data_generator = tf.keras.preprocessing.image.ImageDataGenerator (\n",
    "    rescale=1./255,\n",
    "    shear_range=0.2,\n",
    "    zoom_range=0.2,\n",
    "    horizontal_flip=True,\n",
    "    validation_split=0.2)"
   ]
  },
  {
   "cell_type": "code",
   "execution_count": 4,
   "id": "1d66933c",
   "metadata": {},
   "outputs": [
    {
     "name": "stdout",
     "output_type": "stream",
     "text": [
      "Found 32 images belonging to 2 classes.\n",
      "Found 7 images belonging to 2 classes.\n"
     ]
    }
   ],
   "source": [
    "training_data=data_generator.flow_from_directory(\n",
    "    image_dir_path,\n",
    "    seed=42,\n",
    "    target_size=(200,200),\n",
    "    batch_size=32,\n",
    "    class_mode='binary',\n",
    "    subset='training'\n",
    ")\n",
    "\n",
    "Validation_data=data_generator.flow_from_directory(\n",
    "    image_dir_path,\n",
    "    seed=42,\n",
    "    target_size=(200,200),\n",
    "    batch_size=32,\n",
    "    class_mode='binary',\n",
    "    subset='validation'\n",
    ")"
   ]
  },
  {
   "cell_type": "code",
   "execution_count": 5,
   "id": "0514cb67",
   "metadata": {},
   "outputs": [],
   "source": [
    "seq_model=tf.keras.models.Sequential([\n",
    "    tf.keras.layers.Conv2D(32,(3,3),activation='relu',input_shape=(200,200,3)),\n",
    "    tf.keras.layers.MaxPooling2D(pool_size=(2,2)),\n",
    "    tf.keras.layers.Conv2D(64,(3,3),activation='relu'),\n",
    "    tf.keras.layers.MaxPooling2D(pool_size=(2,2)),\n",
    "    tf.keras.layers.Flatten(),\n",
    "    tf.keras.layers.Dense(128,activation='relu'),\n",
    "    tf.keras.layers.Dropout(0.5),\n",
    "    tf.keras.layers.Dense(2,activation='softmax')\n",
    "])\n",
    "seq_model.compile(optimizer='adam',loss='sparse_categorical_crossentropy',metrics=['accuracy'])"
   ]
  },
  {
   "cell_type": "code",
   "execution_count": 6,
   "id": "03724bd9",
   "metadata": {},
   "outputs": [
    {
     "name": "stderr",
     "output_type": "stream",
     "text": [
      "C:\\Users\\Calidad\\AppData\\Local\\Temp\\ipykernel_10184\\1643162465.py:1: UserWarning: `Model.fit_generator` is deprecated and will be removed in a future version. Please use `Model.fit`, which supports generators.\n",
      "  trained_seq_model=seq_model.fit_generator(\n"
     ]
    },
    {
     "name": "stdout",
     "output_type": "stream",
     "text": [
      "Epoch 1/10\n",
      "1/1 [==============================] - 4s 4s/step - loss: 0.7587 - accuracy: 0.2188 - val_loss: 3.0128 - val_accuracy: 0.5714\n",
      "Epoch 2/10\n",
      "1/1 [==============================] - 2s 2s/step - loss: 4.7630 - accuracy: 0.5625 - val_loss: 9.9094 - val_accuracy: 0.4286\n",
      "Epoch 3/10\n",
      "1/1 [==============================] - 3s 3s/step - loss: 7.8713 - accuracy: 0.5000 - val_loss: 6.4865 - val_accuracy: 0.4286\n",
      "Epoch 4/10\n",
      "1/1 [==============================] - 3s 3s/step - loss: 7.3383 - accuracy: 0.5000 - val_loss: 2.2911 - val_accuracy: 0.4286\n",
      "Epoch 5/10\n",
      "1/1 [==============================] - 2s 2s/step - loss: 1.2172 - accuracy: 0.6875 - val_loss: 0.5417 - val_accuracy: 0.5714\n",
      "Epoch 6/10\n",
      "1/1 [==============================] - 2s 2s/step - loss: 1.6148 - accuracy: 0.5625 - val_loss: 1.2784 - val_accuracy: 0.5714\n",
      "Epoch 7/10\n",
      "1/1 [==============================] - 2s 2s/step - loss: 1.6646 - accuracy: 0.5000 - val_loss: 0.8291 - val_accuracy: 0.5714\n",
      "Epoch 8/10\n",
      "1/1 [==============================] - 2s 2s/step - loss: 1.3588 - accuracy: 0.5625 - val_loss: 0.5412 - val_accuracy: 0.5714\n",
      "Epoch 9/10\n",
      "1/1 [==============================] - 2s 2s/step - loss: 0.6644 - accuracy: 0.6250 - val_loss: 0.4812 - val_accuracy: 0.8571\n",
      "Epoch 10/10\n",
      "1/1 [==============================] - 2s 2s/step - loss: 0.5959 - accuracy: 0.7812 - val_loss: 0.7166 - val_accuracy: 0.5714\n"
     ]
    }
   ],
   "source": [
    "trained_seq_model=seq_model.fit_generator(\n",
    "    training_data,\n",
    "    epochs=10,\n",
    "    validation_data=Validation_data)"
   ]
  },
  {
   "cell_type": "code",
   "execution_count": 7,
   "id": "f056b654",
   "metadata": {},
   "outputs": [
    {
     "name": "stderr",
     "output_type": "stream",
     "text": [
      "WARNING:absl:Found untraced functions such as _jit_compiled_convolution_op, _jit_compiled_convolution_op, _update_step_xla while saving (showing 3 of 3). These functions will not be directly callable after loading.\n"
     ]
    },
    {
     "name": "stdout",
     "output_type": "stream",
     "text": [
      "INFO:tensorflow:Assets written to: covid_classifier\\assets\n"
     ]
    },
    {
     "name": "stderr",
     "output_type": "stream",
     "text": [
      "INFO:tensorflow:Assets written to: covid_classifier\\assets\n"
     ]
    }
   ],
   "source": [
    "seq_model.save('covid_classifier')"
   ]
  },
  {
   "cell_type": "code",
   "execution_count": 8,
   "id": "f5d218fd",
   "metadata": {},
   "outputs": [
    {
     "name": "stdout",
     "output_type": "stream",
     "text": [
      "1/1 [==============================] - 0s 104ms/step\n",
      "Positivo a COVID\n"
     ]
    }
   ],
   "source": [
    "test_image=tf.keras.preprocessing.image.load_img(r'C:\\Users\\Calidad\\DATASET1\\NORMAL1\\NORMAL(1266).jpg',target_size=(200,200,3))\n",
    "test_image=tf.keras.preprocessing.image.img_to_array(test_image)\n",
    "test_image=np.expand_dims(test_image,axis=0)\n",
    "result=seq_model.predict(test_image)\n",
    "if result[0][0]==1:\n",
    "    print('Positivo a COVID')\n",
    "else:\n",
    "    print('Negativo a COVID')"
   ]
  },
  {
   "cell_type": "code",
   "execution_count": 9,
   "id": "45fc908d",
   "metadata": {},
   "outputs": [
    {
     "name": "stdout",
     "output_type": "stream",
     "text": [
      "1/1 [==============================] - 0s 30ms/step\n",
      "Positivo a COVID\n"
     ]
    }
   ],
   "source": [
    "test_image=tf.keras.preprocessing.image.load_img(r'C:\\Users\\Calidad\\DATASET1\\COVID1\\COVID19(460).jpg',target_size=(200,200,3))\n",
    "test_image=tf.keras.preprocessing.image.img_to_array(test_image)\n",
    "test_image=np.expand_dims(test_image,axis=0)\n",
    "result=seq_model.predict(test_image)\n",
    "if result[0][0]==1:\n",
    "    print('Positivo a COVID')\n",
    "else:\n",
    "    print('Negativo a COVID')"
   ]
  },
  {
   "cell_type": "code",
   "execution_count": null,
   "id": "d7f7e0cf",
   "metadata": {},
   "outputs": [],
   "source": []
  }
 ],
 "metadata": {
  "kernelspec": {
   "display_name": "Python 3 (ipykernel)",
   "language": "python",
   "name": "python3"
  },
  "language_info": {
   "codemirror_mode": {
    "name": "ipython",
    "version": 3
   },
   "file_extension": ".py",
   "mimetype": "text/x-python",
   "name": "python",
   "nbconvert_exporter": "python",
   "pygments_lexer": "ipython3",
   "version": "3.10.9"
  }
 },
 "nbformat": 4,
 "nbformat_minor": 5
}
